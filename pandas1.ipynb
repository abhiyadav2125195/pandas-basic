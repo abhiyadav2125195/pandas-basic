{
 "cells": [
  {
   "cell_type": "markdown",
   "id": "50999a84-03fc-4da3-b482-de145cf68093",
   "metadata": {},
   "source": [
    "# Q1. Create a Pandas Series that contains the following data: 4, 8, 15, 16, 23, and 42. Then, print the series."
   ]
  },
  {
   "cell_type": "code",
   "execution_count": 3,
   "id": "f0a8fce6-1c85-48c2-9072-74748f957c30",
   "metadata": {},
   "outputs": [
    {
     "name": "stdout",
     "output_type": "stream",
     "text": [
      "0     4\n",
      "1     8\n",
      "2    15\n",
      "3    16\n",
      "4    23\n",
      "5    42\n",
      "dtype: int64\n"
     ]
    }
   ],
   "source": [
    "import pandas as pd\n",
    "data = [4,8,15,16,23,42]\n",
    "series = pd.Series(data)\n",
    "print(series)"
   ]
  },
  {
   "cell_type": "markdown",
   "id": "7acd877b-ffb7-49c4-bb3a-79c2e962dc6a",
   "metadata": {},
   "source": [
    "# Q2. Create a variable of list type containing 10 elements in it, and apply pandas.Series function on the variable print it."
   ]
  },
  {
   "cell_type": "code",
   "execution_count": 4,
   "id": "a2174a2e-f198-4a01-8ed3-950a5784d4df",
   "metadata": {},
   "outputs": [
    {
     "name": "stdout",
     "output_type": "stream",
     "text": [
      "0    [1, 2, 3, 4, 5, 6, 7, 8, 9, 10]\n",
      "dtype: object\n"
     ]
    }
   ],
   "source": [
    "data1 = [[1,2,3,4,5,6,7,8,9,10]]\n",
    "series1 = pd.Series(data1)\n",
    "print(series1)"
   ]
  },
  {
   "cell_type": "markdown",
   "id": "a677a23c-8c9f-4708-9031-c04073b1a660",
   "metadata": {},
   "source": [
    "# Q3 Create a Pandas DataFrame that contains the following data:\n",
    "\n",
    "\n",
    "# Name\n",
    "# Alice\n",
    "# Bob\n",
    "# Claire\n",
    "\n",
    "# Age\n",
    "# 25\n",
    "# 30\n",
    "# 27\n",
    "\n",
    "# Gender\n",
    "# Female\n",
    "# Male\n",
    "# Female   \n",
    "# Then, print the DataFrame."
   ]
  },
  {
   "cell_type": "code",
   "execution_count": 9,
   "id": "6c6c4062-37c1-487a-9a4a-4fb4f3c6f62c",
   "metadata": {},
   "outputs": [],
   "source": [
    "dataframe = {\"Name\" :[\"Alice\" , \"Bob\" , \"Claire\"] ,\n",
    "          \"Age\" :[ 25 , 30 , 27] ,\n",
    "          \"Gender\" : [\"Female\" , \"Male\" , \"Female\"]}"
   ]
  },
  {
   "cell_type": "code",
   "execution_count": 10,
   "id": "4dd9f9f3-8360-479c-86cb-6429f3bdcb90",
   "metadata": {},
   "outputs": [],
   "source": [
    "df = pd.DataFrame(dataframe)"
   ]
  },
  {
   "cell_type": "code",
   "execution_count": 11,
   "id": "782da2f4-72aa-4f4f-b834-04ff4591a9de",
   "metadata": {},
   "outputs": [
    {
     "name": "stdout",
     "output_type": "stream",
     "text": [
      "     Name  Age  Gender\n",
      "0   Alice   25  Female\n",
      "1     Bob   30    Male\n",
      "2  Claire   27  Female\n"
     ]
    }
   ],
   "source": [
    "print(df)"
   ]
  },
  {
   "cell_type": "markdown",
   "id": "524f6ebc-fecb-483b-a306-c2e478330738",
   "metadata": {},
   "source": [
    "# Q4. What is ‘DataFrame’ in pandas and how is it different from pandas.series? Explain with an example."
   ]
  },
  {
   "cell_type": "markdown",
   "id": "a74c0943-75d2-4ab5-9c0c-4001a7bf53b8",
   "metadata": {},
   "source": [
    "\n",
    "In Pandas, a DataFrame is a 2-dimensional tabular data structure that consists of rows and columns. It is similar to a spreadsheet or SQL table, where each column represents a variable, and each row represents an observation or record. DataFrames are the primary data structure used in Pandas for data manipulation and analysis.\n",
    "\n",
    "On the other hand, a Series is a 1-dimensional data structure in Pandas. It can be thought of as a labeled array or a single column of a DataFrame. Each element in a Series has an associated label, known as the index. Series are useful for representing a single feature or variable, and they can be combined to form a DataFrame."
   ]
  },
  {
   "cell_type": "code",
   "execution_count": 16,
   "id": "ab872128-ef8e-4d32-88ae-e9114ffe1927",
   "metadata": {},
   "outputs": [
    {
     "name": "stdout",
     "output_type": "stream",
     "text": [
      "0     1\n",
      "1     2\n",
      "2     3\n",
      "3    45\n",
      "dtype: int64\n"
     ]
    }
   ],
   "source": [
    "#ex of series \n",
    "pw = [1,2,3,45,]\n",
    "dd = pd.Series(pw)\n",
    "print(dd)"
   ]
  },
  {
   "cell_type": "code",
   "execution_count": 17,
   "id": "0de36a4e-4dd6-41ab-8c93-f6fcb50be4cf",
   "metadata": {},
   "outputs": [
    {
     "name": "stdout",
     "output_type": "stream",
     "text": [
      "     Name  Age  Gender\n",
      "0   Alice   25  Female\n",
      "1     Bob   30    Male\n",
      "2  Claire   27  Female\n"
     ]
    }
   ],
   "source": [
    "# ex of dataframe\n",
    "class1 =  {\"Name\" :[\"Alice\" , \"Bob\" , \"Claire\"] ,\n",
    "          \"Age\" :[ 25 , 30 , 27] ,\n",
    "          \"Gender\" : [\"Female\" , \"Male\" , \"Female\"]}\n",
    "vv = pd.DataFrame(class1)\n",
    "print(vv)"
   ]
  },
  {
   "cell_type": "markdown",
   "id": "d203b6bc-4dc8-4eb0-b264-53ee8cf4c40c",
   "metadata": {},
   "source": [
    "# Q5. What are some common functions you can use to manipulate data in a Pandas DataFrame? Can you give an example of when you might use one of these functions?"
   ]
  },
  {
   "cell_type": "code",
   "execution_count": 7,
   "id": "ce2099eb-eec9-4397-b7e0-c90adeedc41b",
   "metadata": {},
   "outputs": [],
   "source": [
    "# Pandas is a powerful library in Python used for data manipulation and analysis. It provides numerous functions to manipulate data within a DataFrame. Some common functions include:\n",
    "\n",
    "#  filter: Used to filter rows based on certain conditions.\n",
    "# Assuming 'df' is the DataFrame\n",
    "# filtered_df = df[df['age'] > 25]\n",
    "# This filters the DataFrame to include only the rows where the 'age' column value is greater than 25.\n",
    "\n",
    "\n",
    "\n",
    "# groupby: Used to group data based on specific columns and perform aggregate functions on the groups.\n",
    "# # Assuming 'df' is the DataFrame\n",
    "# grouped_df = df.groupby('category')['price'].mean()\n",
    "# This groups the data by the 'category' column and calculates the average price for each category.\n",
    "\n",
    "\n",
    "\n",
    "\n",
    "# sort_values: Used to sort the DataFrame based on one or more columns.\n",
    "# # Assuming 'df' is the DataFrame\n",
    "# sorted_df = df.sort_values(by='date', ascending=True)\n",
    "# This sorts the DataFrame based on the 'date' column in ascending order.\n",
    "\n",
    "\n",
    "\n",
    "# rename: Used to rename columns in the DataFrame.\n",
    "# # Assuming 'df' is the DataFrame\n",
    "# df = df.rename(columns={'old_name': 'new_name'})\n",
    "# This renames the column 'old_name' to 'new_name' in the DataFrame.\n",
    "\n",
    "\n",
    "\n",
    "# drop: Used to remove columns or rows from the DataFrame.\n",
    "# # Assuming 'df' is the DataFrame\n",
    "# df = df.drop(columns=['unwanted_column'])\n",
    "# This drops the 'unwanted_column' from the DataFrame.\n",
    "\n",
    "\n",
    "\n",
    "# merge: Used to combine two DataFrames based on common columns\n",
    "# # Assuming 'df1' and 'df2' are two DataFrames\n",
    "# merged_df = pd.merge(df1, df2, on='common_column')\n",
    "# This merges the two DataFrames based on the 'common_column'.\n",
    "\n",
    "\n",
    "# fillna: Used to fill missing values in the DataFrame with a specified value.\n",
    "# # Assuming 'df' is the DataFrame\n",
    "# df['column_with_missing_values'] = df['column_with_missing_values'].fillna(0)\n",
    "# This fills the missing values in the specified column with 0.\n",
    "\n",
    "\n",
    "\n",
    "# apply: Used to apply a function to elements in a DataFrame.\n",
    "# # Assuming 'df' is the DataFrame\n",
    "# df['new_column'] = df['existing_column'].apply(lambda x: x * 2)\n",
    "# This creates a new column 'new_column' where each value is twice the corresponding value in 'existing_column'."
   ]
  },
  {
   "cell_type": "markdown",
   "id": "cf9c84ab-5ced-437d-8811-eb049e7b6d7b",
   "metadata": {},
   "source": [
    " # Q6. Which of the following is mutable in nature Series, DataFrame, Panel?"
   ]
  },
  {
   "cell_type": "markdown",
   "id": "abbfa933-ef4d-4e41-91d0-dfe7c9df035a",
   "metadata": {},
   "source": [
    "In Pandas, the Series and DataFrame are mutable, while the Panel is not mutable.\n",
    "\n",
    "Series: A Series is a one-dimensional labeled array, similar to a column in a spreadsheet. You can modify the values in a Series after it is created. For example, you can change individual elements, add or remove elements, or update the entire Series.\n",
    "\n",
    "DataFrame: A DataFrame is a two-dimensional labeled data structure, like a spreadsheet or a SQL table. It consists of multiple Series arranged in columns. DataFrames are also mutable, meaning you can modify their contents, add or delete columns, and perform various data manipulations on them.\n",
    "\n",
    "Panel: A Panel is a three-dimensional data structure, which is less commonly used compared to Series and DataFrame. It is like a 3D version of a DataFrame. However, Panels are not mutable. Instead, they are designed to be used primarily for certain specialized data analysis tasks."
   ]
  },
  {
   "cell_type": "markdown",
   "id": "43c93e81-7a3c-4fc7-b87f-7adcb5c4a91f",
   "metadata": {},
   "source": [
    "# Q7. Create a DataFrame using multiple Series. Explain with an example."
   ]
  },
  {
   "cell_type": "code",
   "execution_count": 15,
   "id": "63c2d323-891d-4b29-9f16-fed79412d024",
   "metadata": {},
   "outputs": [
    {
     "name": "stdout",
     "output_type": "stream",
     "text": [
      "     Name  Age\n",
      "0   alice   12\n",
      "1   shyam   34\n",
      "2     ram   43\n",
      "3  piyush   56\n"
     ]
    }
   ],
   "source": [
    "\n",
    "import pandas as pd\n",
    "\n",
    "student_name = pd.Series([\"alice\" , \"shyam\" , \"ram\" , \"piyush\"])\n",
    "\n",
    "student_age = pd.Series([12 , 34 , 43 , 56])\n",
    "\n",
    "df = pd.DataFrame({\"Name\" : student_name , \"Age\" : student_age})\n",
    "\n",
    "\n",
    "print(df)"
   ]
  },
  {
   "cell_type": "code",
   "execution_count": 14,
   "id": "bc11bb0f-cc34-4ed4-ba00-c760a3be201c",
   "metadata": {},
   "outputs": [
    {
     "name": "stdout",
     "output_type": "stream",
     "text": [
      "     Name  Age\n",
      "0   Alice   12\n",
      "1   Shyam   34\n",
      "2     Ram   43\n",
      "3  Piyush   56\n"
     ]
    }
   ],
   "source": [
    "import pandas as pd\n",
    "\n",
    "# Sample data in Series\n",
    "student_names = pd.Series(['Alice', 'Shyam', 'Ram', 'Piyush'])\n",
    "student_ages = pd.Series([12, 34, 43, 56])\n",
    "\n",
    "# Create a DataFrame using the two Series\n",
    "df = pd.DataFrame({'Name': student_names, 'Age': student_ages})\n",
    "\n",
    "# Display the DataFrame\n",
    "print(df)\n"
   ]
  },
  {
   "cell_type": "code",
   "execution_count": null,
   "id": "d694f1ad-b8e3-465e-8408-2d9768247514",
   "metadata": {},
   "outputs": [],
   "source": []
  }
 ],
 "metadata": {
  "kernelspec": {
   "display_name": "Python 3 (ipykernel)",
   "language": "python",
   "name": "python3"
  },
  "language_info": {
   "codemirror_mode": {
    "name": "ipython",
    "version": 3
   },
   "file_extension": ".py",
   "mimetype": "text/x-python",
   "name": "python",
   "nbconvert_exporter": "python",
   "pygments_lexer": "ipython3",
   "version": "3.10.8"
  }
 },
 "nbformat": 4,
 "nbformat_minor": 5
}
